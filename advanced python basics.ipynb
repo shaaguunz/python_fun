{
 "cells": [
  {
   "cell_type": "code",
   "execution_count": 3,
   "metadata": {},
   "outputs": [],
   "source": [
    "import os\n",
    "import sys\n",
    "# from Mymodult import foo, bar  #it is the way to import things"
   ]
  },
  {
   "cell_type": "code",
   "execution_count": 4,
   "metadata": {},
   "outputs": [
    {
     "name": "stdout",
     "output_type": "stream",
     "text": [
      "Hello  Hi\n"
     ]
    }
   ],
   "source": [
    "def my_function(one,two,\n",
    "               three,four,\n",
    "                five):\n",
    "    print(\"Hello world\")\n",
    "def second_function():\n",
    "    print(\"second fcuntion\")\n",
    "my_list = [1,2,\n",
    "          3,4,\n",
    "          5]\n",
    "print(\"Hello \",\"Hi\")"
   ]
  },
  {
   "cell_type": "code",
   "execution_count": 14,
   "metadata": {},
   "outputs": [
    {
     "name": "stdout",
     "output_type": "stream",
     "text": [
      "enemy strikes for  67 current health is  193\n",
      "enemy strikes for  61 current health is  132\n",
      "enemy strikes for  76 current health is  56\n",
      "enemy strikes for  61 current health is  30\n",
      "wow guy you sure look dead so you have been teleported\n"
     ]
    }
   ],
   "source": [
    "import random\n",
    "plarhp = 260\n",
    "emyatklow = 60\n",
    "emyatkhgh = 80\n",
    "while plarhp>0:\n",
    "    dmg = random.randrange(emyatklow,emyatkhgh)\n",
    "    plarhp = plarhp - dmg\n",
    "    if plarhp<=30:\n",
    "        plarhp = 30\n",
    "    print(\"enemy strikes for \",dmg, \"current health is \",plarhp)\n",
    "    \n",
    "    if plarhp>30:\n",
    "        continue\n",
    "    print(\"wow guy you sure look dead so you have been teleported\")\n",
    "    break"
   ]
  },
  {
   "cell_type": "code",
   "execution_count": 11,
   "metadata": {},
   "outputs": [],
   "source": [
    "#classes\n"
   ]
  },
  {
   "cell_type": "code",
   "execution_count": 13,
   "metadata": {},
   "outputs": [
    {
     "name": "stdout",
     "output_type": "stream",
     "text": [
      "60\n"
     ]
    }
   ],
   "source": [
    "class Enemy:\n",
    "    atkl = 60 #class are blueprint for object\n",
    "    atkh = 80\n",
    "    def getAtk(self):\n",
    "        print(self.atkl)\n",
    "enemy1 =Enemy()\n",
    "enemy1.getAtk()\n"
   ]
  },
  {
   "cell_type": "code",
   "execution_count": 20,
   "metadata": {},
   "outputs": [
    {
     "name": "stdout",
     "output_type": "stream",
     "text": [
      "45\n",
      "hp is  250\n",
      "48\n",
      "hp is  250\n"
     ]
    },
    {
     "data": {
      "text/plain": [
       "'so this is a comment'"
      ]
     },
     "execution_count": 20,
     "metadata": {},
     "output_type": "execute_result"
    }
   ],
   "source": [
    "class Enemy:  #class are blueprint for object\n",
    "    hp = 250\n",
    "    def __init__(self,atkl,atkh):   # runs when object is created  like constructors\n",
    "        self.atkl = atkl\n",
    "        self.atkh = atkh\n",
    "        \n",
    "    def getAtk(self):\n",
    "        print(self.atkl)\n",
    "    def gethp(self):\n",
    "        print(\"hp is \",self.hp)\n",
    "enemy1 =Enemy(45,49)\n",
    "enemy1.getAtk()\n",
    "enemy1.gethp()\n",
    "enemy2 =Enemy(48,51)\n",
    "enemy2.getAtk()\n",
    "enemy2.gethp()\n",
    "'''so this is a comment'''\n"
   ]
  },
  {
   "cell_type": "code",
   "execution_count": null,
   "metadata": {},
   "outputs": [],
   "source": []
  }
 ],
 "metadata": {
  "kernelspec": {
   "display_name": "Python 3",
   "language": "python",
   "name": "python3"
  },
  "language_info": {
   "codemirror_mode": {
    "name": "ipython",
    "version": 3
   },
   "file_extension": ".py",
   "mimetype": "text/x-python",
   "name": "python",
   "nbconvert_exporter": "python",
   "pygments_lexer": "ipython3",
   "version": "3.7.3"
  }
 },
 "nbformat": 4,
 "nbformat_minor": 2
}
