{
 "cells": [
  {
   "cell_type": "code",
   "execution_count": 12,
   "metadata": {},
   "outputs": [
    {
     "name": "stdout",
     "output_type": "stream",
     "text": [
      "enter your name  ageNirajan\n",
      "Enter age20\n",
      "enter number of times to print10\n",
      "Nirajan will turn 100 years in 80 year\n",
      "Nirajan will turn 100 years in 80 year\n",
      "Nirajan will turn 100 years in 80 year\n",
      "Nirajan will turn 100 years in 80 year\n",
      "Nirajan will turn 100 years in 80 year\n",
      "Nirajan will turn 100 years in 80 year\n",
      "Nirajan will turn 100 years in 80 year\n",
      "Nirajan will turn 100 years in 80 year\n",
      "Nirajan will turn 100 years in 80 year\n",
      "Nirajan will turn 100 years in 80 year\n"
     ]
    }
   ],
   "source": [
    "a,b,c = input(\"enter your name  age\"),int(input(\"Enter age\")),int(input(\"enter number of times to print\"))\n",
    "for i in range(c):\n",
    "    print(\"{} will turn 100 years in {} year\".format(a,str(100-b)))"
   ]
  },
  {
   "cell_type": "code",
   "execution_count": 5,
   "metadata": {},
   "outputs": [
    {
     "name": "stdout",
     "output_type": "stream",
     "text": [
      "Enter a  number   16\n",
      "wow it is a multiple of 4\n"
     ]
    }
   ],
   "source": [
    "a = int(input(\"Enter a  number   \"))\n",
    "if a%4==0:\n",
    "    print(\"wow it is a multiple of 4\")\n",
    "elif (a%2==0):\n",
    "    print(\"It's even\")\n",
    "\n",
    "else:\n",
    "    print(\"it is odd\")"
   ]
  },
  {
   "cell_type": "code",
   "execution_count": 8,
   "metadata": {},
   "outputs": [
    {
     "name": "stdout",
     "output_type": "stream",
     "text": [
      "Enter first number16\n",
      "ENter second nunmber4\n",
      "b  is divided by c\n"
     ]
    }
   ],
   "source": [
    "b,c = int(input(\"Enter first number\")),int(input(\"ENter second nunmber\"))\n",
    "if (b%c==0):\n",
    "    print(\"b  is divided by c\")\n",
    "else:\n",
    "    print(\"b is n not divided by c\")"
   ]
  },
  {
   "cell_type": "code",
   "execution_count": 24,
   "metadata": {},
   "outputs": [
    {
     "name": "stdout",
     "output_type": "stream",
     "text": [
      "Enter a number q to quit1\n",
      "Enter a number q to quit2\n",
      "Enter a number q to quit34\n",
      "Enter a number q to quit5\n",
      "Enter a number q to quit2\n",
      "Enter a number q to quit1\n",
      "Enter a number q to quitq\n",
      "[1, 2, 2, 1]\n"
     ]
    }
   ],
   "source": [
    "l1 = []\n",
    "a = 0\n",
    "while a!='q':\n",
    "    a = input(\"Enter a number q to quit\")\n",
    "    if a!='q':\n",
    "        l1.append(int(a))\n",
    "k2 = []\n",
    "for i in l1:\n",
    "    l2=[]\n",
    "    if i<5:\n",
    "        k2.append(i)\n",
    "print(k2)"
   ]
  },
  {
   "cell_type": "code",
   "execution_count": 28,
   "metadata": {},
   "outputs": [
    {
     "name": "stdout",
     "output_type": "stream",
     "text": [
      "[1, 2, 3, 4]\n"
     ]
    }
   ],
   "source": [
    "l1  =[1,2,3,4,5,6,7,8]\n",
    "l2 = [a for a in l1 if a<5 ]\n",
    "print(l2)"
   ]
  },
  {
   "cell_type": "code",
   "execution_count": 30,
   "metadata": {},
   "outputs": [
    {
     "name": "stdout",
     "output_type": "stream",
     "text": [
      "enter a number 6\n",
      "[1, 2, 3, 5, 0, 5, 4, 3, 2, 1, 1]\n"
     ]
    }
   ],
   "source": [
    "l1 = [1,2,3,5,6,7,8,0,8,7,5,4,3,2,1,1]\n",
    "l2=[]\n",
    "a = int(input(\"enter a number \"))\n",
    "for i in l1:\n",
    "    if i <a:\n",
    "        l2.append(i)\n",
    "print(l2)"
   ]
  },
  {
   "cell_type": "code",
   "execution_count": 33,
   "metadata": {},
   "outputs": [
    {
     "name": "stdout",
     "output_type": "stream",
     "text": [
      "enter a number to test26\n",
      "2\n",
      "13\n"
     ]
    }
   ],
   "source": [
    "a = int(input(\"enter a number to test\"))\n",
    "for i in range(2,a):\n",
    "    if a%i==0:\n",
    "        print(i)"
   ]
  },
  {
   "cell_type": "code",
   "execution_count": 40,
   "metadata": {},
   "outputs": [],
   "source": [
    "import random\n",
    "l1 =random.sample(range(20,50),10)\n",
    "l2 = random.sample(range(20,50),30)"
   ]
  },
  {
   "cell_type": "code",
   "execution_count": 41,
   "metadata": {},
   "outputs": [
    {
     "name": "stdout",
     "output_type": "stream",
     "text": [
      "40\n",
      "27\n",
      "31\n",
      "38\n",
      "33\n",
      "46\n",
      "47\n",
      "24\n",
      "43\n",
      "48\n"
     ]
    }
   ],
   "source": [
    "for i in l1:\n",
    "    if i in l2:\n",
    "        print(i)"
   ]
  },
  {
   "cell_type": "code",
   "execution_count": 38,
   "metadata": {},
   "outputs": [
    {
     "data": {
      "text/plain": [
       "[21, 29, 25, 20, 23]"
      ]
     },
     "execution_count": 38,
     "metadata": {},
     "output_type": "execute_result"
    }
   ],
   "source": [
    "l2"
   ]
  },
  {
   "cell_type": "code",
   "execution_count": 47,
   "metadata": {},
   "outputs": [
    {
     "name": "stdout",
     "output_type": "stream",
     "text": [
      "1\n",
      "2\n",
      "3\n",
      "5\n",
      "8\n",
      "13\n"
     ]
    }
   ],
   "source": [
    "a = [1, 1, 2, 3, 5, 8, 13, 21, 34, 55, 89]\n",
    "b = [1, 2, 3, 4, 5, 6, 7, 8, 9, 10, 11, 12, 13]\n",
    "c=[]\n",
    "for i in a:\n",
    "    if i in b:\n",
    "       \n",
    "        if i not in c:\n",
    "             c.append(i)\n",
    "            \n",
    "             print(i)"
   ]
  },
  {
   "cell_type": "code",
   "execution_count": 57,
   "metadata": {},
   "outputs": [
    {
     "name": "stdout",
     "output_type": "stream",
     "text": [
      "[1, 1, 2, 3, 5, 8, 13]\n"
     ]
    }
   ],
   "source": [
    "l2= [i for i in a  if i in b ]\n",
    "print(l2)"
   ]
  },
  {
   "cell_type": "code",
   "execution_count": 66,
   "metadata": {},
   "outputs": [
    {
     "name": "stdout",
     "output_type": "stream",
     "text": [
      "enter a string   civvic\n",
      "it's a palindrome\n"
     ]
    }
   ],
   "source": [
    "s1 = input(\"enter a string   \")\n",
    "s2 = s1[::-1]\n",
    "pali= 0\n",
    "for i in range(len(s1)):\n",
    "    if s1[i]!=s2[i]:\n",
    "        pali=1\n",
    "if pali==0:\n",
    "    print(\"it's a palindrome\")\n",
    "else:\n",
    "    print(\"it's not a palindrome\")\n",
    "        "
   ]
  },
  {
   "cell_type": "code",
   "execution_count": 68,
   "metadata": {},
   "outputs": [
    {
     "name": "stdout",
     "output_type": "stream",
     "text": [
      "[4, 16, 36, 64, 100]\n"
     ]
    }
   ],
   "source": [
    "l1 = [1, 4, 9, 16, 25, 36, 49, 64, 81, 100]\n",
    "l2 = [i for i in l1 if i%2==0]\n",
    "print(l2)"
   ]
  },
  {
   "cell_type": "code",
   "execution_count": 11,
   "metadata": {},
   "outputs": [
    {
     "name": "stdout",
     "output_type": "stream",
     "text": [
      " 1 for rock 2 for scissors 3 for paper\n",
      "enter a choice1\n",
      "enter b choice2\n",
      "player a wins\n",
      "do you want to continue press q if you want to quit\n",
      "q\n"
     ]
    }
   ],
   "source": [
    "print(\" 1 for rock 2 for scissors 3 for paper\")\n",
    "i = 1\n",
    "while i>0:\n",
    "    \n",
    "    a = int(input(\"enter a choice\"))\n",
    "    b = int(input(\"enter b choice\"))\n",
    "    \n",
    "    if (a==1) & (b==2):\n",
    "        print(\"player a wins\")\n",
    "    elif (a==1) & (b==2):\n",
    "        print(\"player b wins\")\n",
    "    elif (a==2 )& (b==3):\n",
    "        print(\"player a wins\")\n",
    "    elif (a==2 )& (b==1):\n",
    "        print(\"player b wins\")\n",
    "    elif (a==3 )& (b==1):\n",
    "        print(\"player a wins\")\n",
    "    elif (a==3 )& (b==2):\n",
    "        print(\"player b wins\")\n",
    "\n",
    "    else:\n",
    "        print(\"it's a draw\")\n",
    "    print(\"do you want to continue press q if you want to quit\")\n",
    "    s1 = input()\n",
    "    if s1!='q':\n",
    "        continue\n",
    "    else:\n",
    "        break\n",
    "        \n",
    "        "
   ]
  },
  {
   "cell_type": "code",
   "execution_count": 15,
   "metadata": {},
   "outputs": [
    {
     "name": "stdout",
     "output_type": "stream",
     "text": [
      "Enter a random number betn 1 and 9 2\n",
      "You guessed low\n",
      "do you want to continuequit\n",
      "Enter a random number betn 1 and 9 1\n",
      "You guessed low\n",
      "do you want to continueexit\n"
     ]
    }
   ],
   "source": [
    "import random\n",
    "count=1\n",
    "while count>0:\n",
    "    ran = random.randint(1,9)\n",
    "    a = int(input(\"Enter a random number betn 1 and 9 \"))\n",
    "    count +=1\n",
    "    if ran>a:\n",
    "        print(\"You guessed low\")\n",
    "    elif ran<a:\n",
    "        print(\"you guessed high\")\n",
    "    else:\n",
    "        print(\"wow  \")\n",
    "    choice = input(\"do you want to continue   \")\n",
    "    if choice !='exit':\n",
    "        continue\n",
    "    else:\n",
    "        break\n",
    "        "
   ]
  },
  {
   "cell_type": "code",
   "execution_count": 41,
   "metadata": {},
   "outputs": [],
   "source": [
    "a = [1, 1, 2, 3, 4,4,5, 8, 13, 21, 34, 55, 89]\n",
    "b = [1, 2, 3, 4,4, 5,5, 6, 7, 8, 9, 10, 11, 12, 13]\n",
    "l1 =[]\n",
    "l1 = [set(i for i in a  if i in b)]"
   ]
  },
  {
   "cell_type": "code",
   "execution_count": 38,
   "metadata": {},
   "outputs": [
    {
     "name": "stdout",
     "output_type": "stream",
     "text": [
      "{1, 2, 3, 4, 5, 8, 13}\n"
     ]
    }
   ],
   "source": [
    "print(set(l1))"
   ]
  },
  {
   "cell_type": "code",
   "execution_count": 65,
   "metadata": {},
   "outputs": [
    {
     "name": "stdout",
     "output_type": "stream",
     "text": [
      "{2, 10, 13, 22, 26, 29, 34, 40, 48, 49, 50, 53, 59, 61, 62, 64, 65, 66, 73, 75, 77, 79, 82, 83, 85, 86, 90, 91, 97, 99}\n"
     ]
    }
   ],
   "source": [
    "a= random.sample(range(100),50)\n",
    "b = random.sample(range(100),50)\n",
    "l1 =[]\n",
    "l1 = [i for i in a  if i in b]\n",
    "print(set(l1))"
   ]
  },
  {
   "cell_type": "code",
   "execution_count": null,
   "metadata": {},
   "outputs": [
    {
     "name": "stdout",
     "output_type": "stream",
     "text": [
      "enter a number to check   10000000000000\n"
     ]
    }
   ],
   "source": [
    "def is_prime(n):\n",
    "    prime=0\n",
    "    for i in range(2,n):\n",
    "        if n%i==0:\n",
    "            prime =1\n",
    "    return prime\n",
    "    \n",
    "    \n",
    "a = int(input(\"enter a number to check   \"))\n",
    "primey=is_prime(a)\n",
    "if primey ==1:\n",
    "    print(\"it's not a prime number\")\n",
    "else:\n",
    "    print(\"it's a prime number\")"
   ]
  },
  {
   "cell_type": "code",
   "execution_count": 7,
   "metadata": {},
   "outputs": [
    {
     "name": "stdout",
     "output_type": "stream",
     "text": [
      "[7, 0, 5, 8, 4]\n",
      "[7, 4]\n"
     ]
    }
   ],
   "source": [
    "import random\n",
    "def fndl(l3):\n",
    "    \n",
    "    l2=[]\n",
    "    l2.append(l3[0])\n",
    "    l2.append(l3[-1])\n",
    "    print(l2)\n",
    "\n",
    "l1 = random.sample(range(10),5)\n",
    "print(l1)\n",
    "fndl(l1)\n",
    "\n",
    "    "
   ]
  },
  {
   "cell_type": "code",
   "execution_count": 16,
   "metadata": {},
   "outputs": [
    {
     "name": "stdout",
     "output_type": "stream",
     "text": [
      "Enter a number of fibonacci sequence to generate10\n",
      "1\n",
      "1\n",
      "2\n",
      "3\n",
      "5\n",
      "8\n",
      "13\n",
      "21\n",
      "34\n",
      "55\n",
      "89\n"
     ]
    }
   ],
   "source": [
    "def fibo(n):\n",
    "    a,b,c=1,1,1\n",
    "    print(1)\n",
    "    n -=1\n",
    "        \n",
    "    \n",
    "   \n",
    "  \n",
    "    while n>=0:\n",
    "        print(c)\n",
    "        a = b\n",
    "        b = c\n",
    "        c = a+b\n",
    "        n -=1\n",
    "        \n",
    "        \n",
    "        \n",
    "        \n",
    "        \n",
    "        \n",
    "    \n",
    "    \n",
    "n = int(input(\"Enter a number of fibonacci sequence to generate\"))\n",
    "fibo(n)"
   ]
  },
  {
   "cell_type": "code",
   "execution_count": 20,
   "metadata": {},
   "outputs": [
    {
     "name": "stdout",
     "output_type": "stream",
     "text": [
      "[1, 2, 3, 4, 5, 56, 7, 54, 34, 434, 12]\n",
      "{1, 2, 3, 4, 5, 34, 7, 12, 434, 54, 56}\n"
     ]
    }
   ],
   "source": [
    "def looping(l1):\n",
    "    l2 = []\n",
    "    for i in l1:\n",
    "        if i not in l2:\n",
    "            l2.append(i)\n",
    "    print(l2)\n",
    "    \n",
    "def setu(l1):\n",
    "    s1 = set(l1)\n",
    "    print(s1)\n",
    "    \n",
    "l1 = [1,1,1,2,3,3,4,4,3,3,4,5,56,7,56,54,54,34,3,3,4,54,5,56,54,434,3,2,2,12,12]\n",
    "looping(l1)\n",
    "setu(l1)\n"
   ]
  },
  {
   "cell_type": "code",
   "execution_count": 35,
   "metadata": {},
   "outputs": [
    {
     "name": "stdout",
     "output_type": "stream",
     "text": [
      "iamluffy is name My\n"
     ]
    }
   ],
   "source": [
    "def string_back(s1):\n",
    "    \n",
    "    l1 =[]\n",
    "    for i in s1.split():\n",
    "\n",
    "        l1.append(i)\n",
    "    l1 =l1[::-1]\n",
    "    s1 =\" \"\n",
    "    print(s1.join(l1))\n",
    "s1 =\"My name is iamluffy\"\n",
    "string_back(s1)\n"
   ]
  },
  {
   "cell_type": "code",
   "execution_count": 52,
   "metadata": {},
   "outputs": [
    {
     "name": "stdout",
     "output_type": "stream",
     "text": [
      "enter length of password you want to generate10\n",
      "1g>3u`a<v2\n"
     ]
    }
   ],
   "source": [
    "import string\n",
    "import random\n",
    "def pwdgenerate(n):\n",
    "    magic = \" \"\n",
    "    u = string.ascii_uppercase\n",
    "    l = string.ascii_lowercase\n",
    "    d = string.digits\n",
    "    s = string.punctuation\n",
    "    magic = u+l+d+s\n",
    "    pwd = random.sample(magic,n)\n",
    "    random.shuffle(pwd)\n",
    "    s1 = \" \"\n",
    "    \n",
    "    for i in pwd:\n",
    "        pwd=''.join(pwd)\n",
    "    \n",
    "    \n",
    "    return pwd\n",
    "\n",
    "    \n",
    "n = int(input(\"enter length of password you want to generate\"))\n",
    "pwd = pwdgenerate(n)\n",
    "print(pwd)"
   ]
  },
  {
   "cell_type": "code",
   "execution_count": 58,
   "metadata": {},
   "outputs": [],
   "source": [
    "import requests\n",
    "from bs4 import BeautifulSoup\n",
    "url = 'https://www.nytimes.com'\n",
    "r = requests.get(url)\n",
    "r_html = r.text\n",
    "soup=BeautifulSoup(r_html)\n",
    "\n"
   ]
  },
  {
   "cell_type": "code",
   "execution_count": 84,
   "metadata": {},
   "outputs": [],
   "source": [
    "for story_heading in soup.find_all(class_=\"css-1smgwul e1wiw3jv0\"):\n",
    "        print(story_heading.a.text.replace(\"\\n\", \" \").strip())"
   ]
  },
  {
   "cell_type": "code",
   "execution_count": 1,
   "metadata": {},
   "outputs": [
    {
     "name": "stdout",
     "output_type": "stream",
     "text": [
      "Enter a 4 digit number    1234\n",
      "123\n",
      "12\n",
      "1\n",
      "0\n",
      "number of cows 0 number of bulls 4\n",
      "Enter a 4 digit number    2354\n",
      "235\n",
      "23\n",
      "2\n",
      "0\n",
      "number of cows 0 number of bulls 4\n",
      "Enter a 4 digit number    5655\n",
      "565\n",
      "56\n",
      "5\n",
      "0\n",
      "number of cows 1 number of bulls 3\n",
      "Enter a 4 digit number    0000\n",
      "number of cows 0 number of bulls 0\n",
      "Enter a 4 digit number    3.2\n"
     ]
    },
    {
     "ename": "ValueError",
     "evalue": "invalid literal for int() with base 10: '3.2'",
     "output_type": "error",
     "traceback": [
      "\u001b[1;31m---------------------------------------------------------------------------\u001b[0m",
      "\u001b[1;31mValueError\u001b[0m                                Traceback (most recent call last)",
      "\u001b[1;32m<ipython-input-1-74888ed669d9>\u001b[0m in \u001b[0;36m<module>\u001b[1;34m\u001b[0m\n\u001b[0;32m     26\u001b[0m     \u001b[0mrnd\u001b[0m \u001b[1;33m=\u001b[0m \u001b[0mrandom\u001b[0m\u001b[1;33m.\u001b[0m\u001b[0mrandint\u001b[0m\u001b[1;33m(\u001b[0m\u001b[1;36m1000\u001b[0m\u001b[1;33m,\u001b[0m\u001b[1;36m9999\u001b[0m\u001b[1;33m)\u001b[0m\u001b[1;33m\u001b[0m\u001b[1;33m\u001b[0m\u001b[0m\n\u001b[0;32m     27\u001b[0m     \u001b[1;32mwhile\u001b[0m \u001b[0mc\u001b[0m\u001b[1;33m!=\u001b[0m\u001b[1;36m4\u001b[0m\u001b[1;33m:\u001b[0m\u001b[1;33m\u001b[0m\u001b[1;33m\u001b[0m\u001b[0m\n\u001b[1;32m---> 28\u001b[1;33m         \u001b[0ma\u001b[0m \u001b[1;33m=\u001b[0m \u001b[0mint\u001b[0m\u001b[1;33m(\u001b[0m\u001b[0minput\u001b[0m\u001b[1;33m(\u001b[0m\u001b[1;34m\"Enter a 4 digit number    \"\u001b[0m\u001b[1;33m)\u001b[0m\u001b[1;33m)\u001b[0m\u001b[1;33m\u001b[0m\u001b[1;33m\u001b[0m\u001b[0m\n\u001b[0m\u001b[0;32m     29\u001b[0m         \u001b[0mc\u001b[0m \u001b[1;33m=\u001b[0m \u001b[0mguess\u001b[0m\u001b[1;33m(\u001b[0m\u001b[0ma\u001b[0m\u001b[1;33m,\u001b[0m\u001b[0mrnd\u001b[0m\u001b[1;33m)\u001b[0m\u001b[1;33m\u001b[0m\u001b[1;33m\u001b[0m\u001b[0m\n",
      "\u001b[1;31mValueError\u001b[0m: invalid literal for int() with base 10: '3.2'"
     ]
    }
   ],
   "source": [
    "import random\n",
    "def guess(a,rnd):\n",
    "    \n",
    "    bulls =0\n",
    "    cows =0\n",
    "        \n",
    "    while(a>0):\n",
    "        if(a%10 ==rnd %10):\n",
    "            cows +=1\n",
    "                \n",
    "        else:\n",
    "            bulls +=1\n",
    "                \n",
    "        a =a//10\n",
    "        rnd  =rnd//10\n",
    "        print(a)\n",
    "        \n",
    "            \n",
    "\n",
    "    print(\"number of cows\" ,str(cows), \"number of bulls\", str(bulls))\n",
    "    return cows\n",
    "    \n",
    "    \n",
    "if __name__==\"__main__\":\n",
    "    c=0\n",
    "    rnd = random.randint(1000,9999)\n",
    "    while c!=4:\n",
    "        a = int(input(\"Enter a 4 digit number    \"))\n",
    "        c = guess(a,rnd)"
   ]
  },
  {
   "cell_type": "code",
   "execution_count": 24,
   "metadata": {},
   "outputs": [
    {
     "name": "stdout",
     "output_type": "stream",
     "text": [
      "enter number you want to search    11\n",
      "Element not found\n"
     ]
    }
   ],
   "source": [
    "\n",
    "def search(l2,num):\n",
    "    \n",
    "   \n",
    "    first=0\n",
    "    last=len(l2)-1\n",
    "    \n",
    "    while last>=first:\n",
    "        mid = (first+last)//2\n",
    "        if num<l2[mid]:\n",
    "            last=mid+1\n",
    "            \n",
    "        elif num>l2[mid]:\n",
    "            first=mid+1\n",
    "        else:\n",
    "            return True\n",
    "        \n",
    "    \n",
    "if __name__==\"__main__\":\n",
    "    l1 =[1,2,3,4,5,7,8,9,10]\n",
    "    to_search = int(input(\"enter number you want to search    \"))\n",
    "    a= search(l1,to_search)\n",
    "    if a==True:\n",
    "        print(\"Element found\")\n",
    "    else:\n",
    "        print(\"Element not found\")\n",
    "    "
   ]
  },
  {
   "cell_type": "code",
   "execution_count": 26,
   "metadata": {},
   "outputs": [
    {
     "name": "stdout",
     "output_type": "stream",
     "text": [
      "enter the name you want to save a file toabc\n"
     ]
    }
   ],
   "source": [
    "s1= input(\"enter the name you want to save a file to\")\n",
    "with open(s1+\".txt\",'w') as file:\n",
    "    file.write(\"so opened a file\")\n",
    "    \n"
   ]
  },
  {
   "cell_type": "code",
   "execution_count": 20,
   "metadata": {},
   "outputs": [],
   "source": [
    "with open(\"untitled.txt\") as file:\n",
    "    a = file.readlines()\n",
    "        \n",
    "        \n",
    "  "
   ]
  },
  {
   "cell_type": "code",
   "execution_count": 36,
   "metadata": {},
   "outputs": [
    {
     "name": "stdout",
     "output_type": "stream",
     "text": [
      "362\n",
      "19850\n",
      "{'abbey': 50, 'airplane_cabin': 50, 'airport_terminal': 50, 'alley': 50, 'amphitheater': 50, 'amusement_arcade': 50, 'amusement_park': 50, 'anechoic_chamber': 50, 'apartment_building': 50, 'apse': 50, 'aquarium': 50, 'aqueduct': 50, 'arch': 50, 'archive': 50, 'arrival_gate': 50, 'art_gallery': 50, 'art_school': 50, 'art_studio': 50, 'assembly_line': 50, 'athletic_field': 50, 'atrium': 50, 'attic': 50, 'auditorium': 50, 'auto_factory': 50, 'badlands': 50, 'badminton_court': 50, 'baggage_claim': 50, 'bakery': 50, 'balcony': 100, 'ball_pit': 50, 'ballroom': 50, 'bamboo_forest': 50, 'banquet_hall': 50, 'bar': 50, 'barn': 50, 'barndoor': 50, 'baseball_field': 50, 'basement': 50, 'basilica': 50, 'basketball_court': 50, 'bathroom': 50, 'batters_box': 50, 'bayou': 50, 'bazaar': 100, 'beach': 50, 'beauty_salon': 50, 'bedroom': 50, 'berth': 50, 'biology_laboratory': 50, 'bistro': 50, 'boardwalk': 50, 'boat_deck': 50, 'boathouse': 50, 'bookstore': 50, 'booth': 50, 'botanical_garden': 50, 'bow_window': 100, 'bowling_alley': 50, 'boxing_ring': 50, 'brewery': 50, 'bridge': 50, 'building_facade': 50, 'bullring': 50, 'burial_chamber': 50, 'bus_interior': 50, 'butchers_shop': 50, 'butte': 50, 'cabin': 50, 'cafeteria': 50, 'campsite': 50, 'campus': 50, 'canal': 100, 'candy_store': 50, 'canyon': 50, 'car_interior': 100, 'carrousel': 50, 'casino': 50, 'castle': 50, 'catacomb': 50, 'cathedral': 100, 'cavern': 50, 'cemetery': 50, 'chalet': 50, 'cheese_factory': 50, 'chemistry_lab': 50, 'chicken_coop': 100, 'childs_room': 50, 'church': 100, 'classroom': 50, 'clean_room': 50, 'cliff': 50, 'cloister': 50, 'closet': 50, 'clothing_store': 50, 'coast': 50, 'cockpit': 50, 'coffee_shop': 50, 'computer_room': 50, 'conference_center': 50, 'conference_room': 50, 'construction_site': 50, 'control_room': 50, 'control_tower': 50, 'corn_field': 50, 'corral': 50, 'corridor': 50, 'cottage_garden': 50, 'courthouse': 50, 'courtroom': 50, 'courtyard': 50, 'covered_bridge': 50, 'creek': 50, 'crevasse': 50, 'crosswalk': 50, 'cubicle': 50, 'dam': 50, 'delicatessen': 50, 'dentists_office': 50, 'desert': 100, 'diner': 100, 'dinette': 100, 'dining_car': 50, 'dining_room': 50, 'discotheque': 50, 'dock': 50, 'doorway': 50, 'dorm_room': 50, 'driveway': 50, 'driving_range': 50, 'drugstore': 50, 'electrical_substation': 50, 'elevator': 100, 'elevator_shaft': 50, 'engine_room': 50, 'escalator': 50, 'excavation': 50, 'factory': 50, 'fairway': 50, 'fastfood_restaurant': 50, 'field': 100, 'fire_escape': 50, 'fire_station': 50, 'firing_range': 50, 'fishpond': 50, 'florist_shop': 50, 'food_court': 50, 'forest': 100, 'forest_path': 50, 'forest_road': 50, 'formal_garden': 50, 'fountain': 50, 'galley': 50, 'game_room': 50, 'garage': 50, 'garbage_dump': 50, 'gas_station': 50, 'gazebo': 50, 'general_store': 100, 'gift_shop': 50, 'golf_course': 50, 'greenhouse': 100, 'gymnasium': 50, 'hangar': 100, 'harbor': 50, 'hayfield': 50, 'heliport': 50, 'herb_garden': 50, 'highway': 50, 'hill': 50, 'home_office': 50, 'hospital': 50, 'hospital_room': 50, 'hot_spring': 50, 'hot_tub': 50, 'hotel': 50, 'hotel_room': 50, 'house': 50, 'hunting_lodge': 50, 'ice_cream_parlor': 50, 'ice_floe': 50, 'ice_shelf': 50, 'ice_skating_rink': 100, 'iceberg': 50, 'igloo': 50, 'industrial_area': 50, 'inn': 50, 'islet': 50, 'jacuzzi': 50, 'jail': 50, 'jail_cell': 50, 'jewelry_shop': 50, 'kasbah': 50, 'kennel': 100, 'kindergarden_classroom': 50, 'kitchen': 50, 'kitchenette': 50, 'labyrinth': 50, 'lake': 50, 'landfill': 50, 'landing_deck': 50, 'laundromat': 50, 'lecture_room': 50, 'library': 100, 'lido_deck': 50, 'lift_bridge': 50, 'lighthouse': 50, 'limousine_interior': 50, 'living_room': 50, 'lobby': 50, 'lock_chamber': 50, 'locker_room': 50, 'mansion': 50, 'manufactured_home': 50, 'market': 100, 'marsh': 50, 'martial_arts_gym': 50, 'mausoleum': 50, 'medina': 50, 'moat': 50, 'monastery': 50, 'mosque': 100, 'motel': 50, 'mountain': 50, 'mountain_snowy': 50, 'movie_theater': 50, 'museum': 50, 'music_store': 50, 'music_studio': 50, 'nuclear_power_plant': 50, 'nursery': 50, 'oast_house': 50, 'observatory': 50, 'ocean': 50, 'office': 50, 'office_building': 50, 'oil_refinery': 50, 'oilrig': 50, 'operating_room': 50, 'orchard': 50, 'outhouse': 50, 'pagoda': 50, 'palace': 50, 'pantry': 50, 'park': 50, 'parking_garage': 100, 'parking_lot': 50, 'parlor': 50, 'pasture': 50, 'patio': 50, 'pavilion': 50, 'pharmacy': 50, 'phone_booth': 50, 'physics_laboratory': 50, 'picnic_area': 50, 'pilothouse': 50, 'planetarium': 50, 'playground': 50, 'playroom': 50, 'plaza': 50, 'podium': 100, 'pond': 50, 'poolroom': 100, 'power_plant': 50, 'promenade_deck': 50, 'pub': 50, 'pulpit': 50, 'putting_green': 50, 'racecourse': 50, 'raceway': 50, 'raft': 50, 'railroad_track': 50, 'rainforest': 50, 'reception': 50, 'recreation_room': 50, 'residential_neighborhood': 50, 'restaurant': 50, 'restaurant_kitchen': 50, 'restaurant_patio': 50, 'rice_paddy': 50, 'riding_arena': 50, 'river': 50, 'rock_arch': 50, 'rope_bridge': 50, 'ruin': 50, 'runway': 50, 'sandbar': 50, 'sandbox': 50, 'sauna': 50, 'schoolhouse': 50, 'sea_cliff': 50, 'server_room': 50, 'shed': 50, 'shoe_shop': 50, 'shopfront': 50, 'shopping_mall': 50, 'shower': 50, 'skatepark': 50, 'ski_lodge': 50, 'ski_resort': 50, 'ski_slope': 50, 'sky': 50, 'skyscraper': 50, 'slum': 50, 'snowfield': 50, 'squash_court': 50, 'stable': 50, 'stadium': 100, 'stage': 50, 'staircase': 50, 'street': 50, 'subway_interior': 50, 'subway_station': 50, 'supermarket': 50, 'sushi_bar': 50, 'swamp': 50, 'swimming_pool': 100, 'synagogue': 100, 'television_studio': 50, 'temple': 100, 'tennis_court': 100, 'tent': 50, 'theater': 100, 'thriftshop': 50, 'throne_room': 50, 'ticket_booth': 50, 'toll_plaza': 50, 'topiary_garden': 50, 'tower': 50, 'toyshop': 50, 'track': 50, 'train_railway': 50, 'train_station': 50, 'tree_farm': 50, 'tree_house': 50, 'trench': 50, 'underwater': 50, 'utility_room': 50, 'valley': 50, 'van_interior': 50, 'vegetable_garden': 50, 'veranda': 50, 'veterinarians_office': 50, 'viaduct': 50, 'videostore': 50, 'village': 50, 'vineyard': 50, 'volcano': 50, 'volleyball_court': 100, 'waiting_room': 50, 'warehouse': 50, 'water_tower': 50, 'waterfall': 150, 'watering_hole': 50, 'wave': 50, 'wet_bar': 50, 'wheat_field': 50, 'wind_farm': 50, 'windmill': 50, 'wine_cellar': 100, 'wrestling_ring': 50, 'yard': 50, 'youth_hostel': 50}\n"
     ]
    }
   ],
   "source": [
    "l1 =[]\n",
    "l2 = []\n",
    "l3 = {}\n",
    "for i in a:\n",
    "    if (i.split('/')[2]) in l1:\n",
    "        l2.append(i.split('/')[2])\n",
    "        continue\n",
    "    else:\n",
    "        l1.append(i.split('/')[2])\n",
    "        l2.append(i.split('/')[2])\n",
    "\n",
    "print(len(l1))\n",
    "print(len(l2))\n",
    "for i in l1:\n",
    "    l3[i] = l2.count(i)\n",
    "print(l3)"
   ]
  },
  {
   "cell_type": "code",
   "execution_count": 61,
   "metadata": {},
   "outputs": [
    {
     "name": "stdout",
     "output_type": "stream",
     "text": [
      "{7, 263, 139, 907, 13, 653, 397, 19, 23, 409, 31, 673, 293, 167, 937, 683, 563, 313, 193, 709, 331, 79, 863, 97, 739, 103, 487, 617, 109, 239, 367, 881, 761, 379, 383}\n"
     ]
    }
   ],
   "source": [
    "\n",
    "with open(\"a.txt\") as file:\n",
    "  \n",
    "    l1 =set([int(x.strip()) for x in file.readlines()])\n",
    "    #a= a.replace(\"\\n\",\"\")\n",
    "with open(\"b.txt\") as file:\n",
    "    l2 =set([int(x.strip()) for x in file.readlines()])\n",
    "\n",
    "# for i in a:\n",
    "#     l1.append(a[i].rstrip(\"\\n\").split(\",\"))\n",
    "    \n",
    "print(l1.intersection(l2))        "
   ]
  },
  {
   "cell_type": "code",
   "execution_count": 58,
   "metadata": {},
   "outputs": [
    {
     "data": {
      "text/plain": [
       "{'101',\n",
       " '103',\n",
       " '107',\n",
       " '109',\n",
       " '11',\n",
       " '113',\n",
       " '127',\n",
       " '13',\n",
       " '131',\n",
       " '137',\n",
       " '139',\n",
       " '149',\n",
       " '151',\n",
       " '157',\n",
       " '163',\n",
       " '167',\n",
       " '17',\n",
       " '173',\n",
       " '179',\n",
       " '181',\n",
       " '19',\n",
       " '191',\n",
       " '193',\n",
       " '197',\n",
       " '199',\n",
       " '2',\n",
       " '211',\n",
       " '223',\n",
       " '227',\n",
       " '229',\n",
       " '23',\n",
       " '233',\n",
       " '239',\n",
       " '241',\n",
       " '251',\n",
       " '257',\n",
       " '263',\n",
       " '269',\n",
       " '271',\n",
       " '277',\n",
       " '281',\n",
       " '283',\n",
       " '29',\n",
       " '293',\n",
       " '3',\n",
       " '307',\n",
       " '31',\n",
       " '311',\n",
       " '313',\n",
       " '317',\n",
       " '331',\n",
       " '337',\n",
       " '347',\n",
       " '349',\n",
       " '353',\n",
       " '359',\n",
       " '367',\n",
       " '37',\n",
       " '373',\n",
       " '379',\n",
       " '383',\n",
       " '389',\n",
       " '397',\n",
       " '401',\n",
       " '409',\n",
       " '41',\n",
       " '419',\n",
       " '421',\n",
       " '43',\n",
       " '431',\n",
       " '433',\n",
       " '439',\n",
       " '443',\n",
       " '449',\n",
       " '457',\n",
       " '461',\n",
       " '463',\n",
       " '467',\n",
       " '47',\n",
       " '479',\n",
       " '487',\n",
       " '491',\n",
       " '499',\n",
       " '5',\n",
       " '503',\n",
       " '509',\n",
       " '521',\n",
       " '523',\n",
       " '53',\n",
       " '541',\n",
       " '547',\n",
       " '557',\n",
       " '563',\n",
       " '569',\n",
       " '571',\n",
       " '577',\n",
       " '587',\n",
       " '59',\n",
       " '593',\n",
       " '599',\n",
       " '601',\n",
       " '607',\n",
       " '61',\n",
       " '613',\n",
       " '617',\n",
       " '619',\n",
       " '631',\n",
       " '641',\n",
       " '643',\n",
       " '647',\n",
       " '653',\n",
       " '659',\n",
       " '661',\n",
       " '67',\n",
       " '673',\n",
       " '677',\n",
       " '683',\n",
       " '691',\n",
       " '7',\n",
       " '701',\n",
       " '709',\n",
       " '71',\n",
       " '719',\n",
       " '727',\n",
       " '73',\n",
       " '733',\n",
       " '739',\n",
       " '743',\n",
       " '751',\n",
       " '757',\n",
       " '761',\n",
       " '769',\n",
       " '773',\n",
       " '787',\n",
       " '79',\n",
       " '797',\n",
       " '809',\n",
       " '811',\n",
       " '821',\n",
       " '823',\n",
       " '827',\n",
       " '829',\n",
       " '83',\n",
       " '839',\n",
       " '853',\n",
       " '857',\n",
       " '859',\n",
       " '863',\n",
       " '877',\n",
       " '881',\n",
       " '883',\n",
       " '887',\n",
       " '89',\n",
       " '907',\n",
       " '911',\n",
       " '919',\n",
       " '929',\n",
       " '937',\n",
       " '941',\n",
       " '947',\n",
       " '953',\n",
       " '967',\n",
       " '97',\n",
       " '971',\n",
       " '977',\n",
       " '983',\n",
       " '991',\n",
       " '997'}"
      ]
     },
     "execution_count": 58,
     "metadata": {},
     "output_type": "execute_result"
    }
   ],
   "source": []
  },
  {
   "cell_type": "code",
   "execution_count": 59,
   "metadata": {},
   "outputs": [
    {
     "data": {
      "text/plain": [
       "{'1',\n",
       " '10',\n",
       " '100',\n",
       " '1000',\n",
       " '103',\n",
       " '109',\n",
       " '129',\n",
       " '13',\n",
       " '130',\n",
       " '133',\n",
       " '139',\n",
       " '167',\n",
       " '176',\n",
       " '188',\n",
       " '19',\n",
       " '190',\n",
       " '192',\n",
       " '193',\n",
       " '203',\n",
       " '208',\n",
       " '219',\n",
       " '226',\n",
       " '23',\n",
       " '230',\n",
       " '236',\n",
       " '239',\n",
       " '262',\n",
       " '263',\n",
       " '28',\n",
       " '280',\n",
       " '291',\n",
       " '293',\n",
       " '301',\n",
       " '302',\n",
       " '31',\n",
       " '310',\n",
       " '313',\n",
       " '319',\n",
       " '32',\n",
       " '320',\n",
       " '326',\n",
       " '329',\n",
       " '331',\n",
       " '338',\n",
       " '356',\n",
       " '362',\n",
       " '365',\n",
       " '367',\n",
       " '368',\n",
       " '376',\n",
       " '379',\n",
       " '383',\n",
       " '386',\n",
       " '391',\n",
       " '392',\n",
       " '397',\n",
       " '404',\n",
       " '409',\n",
       " '44',\n",
       " '440',\n",
       " '446',\n",
       " '464',\n",
       " '469',\n",
       " '478',\n",
       " '487',\n",
       " '49',\n",
       " '490',\n",
       " '496',\n",
       " '536',\n",
       " '556',\n",
       " '563',\n",
       " '565',\n",
       " '566',\n",
       " '608',\n",
       " '617',\n",
       " '622',\n",
       " '623',\n",
       " '632',\n",
       " '635',\n",
       " '637',\n",
       " '638',\n",
       " '644',\n",
       " '649',\n",
       " '653',\n",
       " '655',\n",
       " '656',\n",
       " '665',\n",
       " '671',\n",
       " '673',\n",
       " '68',\n",
       " '680',\n",
       " '683',\n",
       " '694',\n",
       " '7',\n",
       " '70',\n",
       " '700',\n",
       " '709',\n",
       " '716',\n",
       " '736',\n",
       " '739',\n",
       " '748',\n",
       " '761',\n",
       " '763',\n",
       " '784',\n",
       " '79',\n",
       " '790',\n",
       " '793',\n",
       " '802',\n",
       " '806',\n",
       " '818',\n",
       " '82',\n",
       " '820',\n",
       " '833',\n",
       " '836',\n",
       " '847',\n",
       " '86',\n",
       " '860',\n",
       " '863',\n",
       " '874',\n",
       " '881',\n",
       " '888',\n",
       " '899',\n",
       " '901',\n",
       " '904',\n",
       " '907',\n",
       " '91',\n",
       " '910',\n",
       " '912',\n",
       " '913',\n",
       " '921',\n",
       " '923',\n",
       " '931',\n",
       " '932',\n",
       " '937',\n",
       " '94',\n",
       " '940',\n",
       " '946',\n",
       " '964',\n",
       " '97',\n",
       " '970',\n",
       " '973',\n",
       " '989',\n",
       " '998'}"
      ]
     },
     "execution_count": 59,
     "metadata": {},
     "output_type": "execute_result"
    }
   ],
   "source": []
  },
  {
   "cell_type": "code",
   "execution_count": null,
   "metadata": {},
   "outputs": [],
   "source": []
  }
 ],
 "metadata": {
  "kernelspec": {
   "display_name": "Python 3",
   "language": "python",
   "name": "python3"
  },
  "language_info": {
   "codemirror_mode": {
    "name": "ipython",
    "version": 3
   },
   "file_extension": ".py",
   "mimetype": "text/x-python",
   "name": "python",
   "nbconvert_exporter": "python",
   "pygments_lexer": "ipython3",
   "version": "3.7.7"
  }
 },
 "nbformat": 4,
 "nbformat_minor": 4
}
