{
 "cells": [
  {
   "cell_type": "code",
   "execution_count": 12,
   "metadata": {},
   "outputs": [
    {
     "name": "stdout",
     "output_type": "stream",
     "text": [
      "enter your name  ageNirajan\n",
      "Enter age20\n",
      "enter number of times to print10\n",
      "Nirajan will turn 100 years in 80 year\n",
      "Nirajan will turn 100 years in 80 year\n",
      "Nirajan will turn 100 years in 80 year\n",
      "Nirajan will turn 100 years in 80 year\n",
      "Nirajan will turn 100 years in 80 year\n",
      "Nirajan will turn 100 years in 80 year\n",
      "Nirajan will turn 100 years in 80 year\n",
      "Nirajan will turn 100 years in 80 year\n",
      "Nirajan will turn 100 years in 80 year\n",
      "Nirajan will turn 100 years in 80 year\n"
     ]
    }
   ],
   "source": [
    "a,b,c = input(\"enter your name  age\"),int(input(\"Enter age\")),int(input(\"enter number of times to print\"))\n",
    "for i in range(c):\n",
    "    print(\"{} will turn 100 years in {} year\".format(a,str(100-b)))"
   ]
  },
  {
   "cell_type": "code",
   "execution_count": 5,
   "metadata": {},
   "outputs": [
    {
     "name": "stdout",
     "output_type": "stream",
     "text": [
      "Enter a  number   16\n",
      "wow it is a multiple of 4\n"
     ]
    }
   ],
   "source": [
    "a = int(input(\"Enter a  number   \"))\n",
    "if a%4==0:\n",
    "    print(\"wow it is a multiple of 4\")\n",
    "elif (a%2==0):\n",
    "    print(\"It's even\")\n",
    "\n",
    "else:\n",
    "    print(\"it is odd\")"
   ]
  },
  {
   "cell_type": "code",
   "execution_count": 8,
   "metadata": {},
   "outputs": [
    {
     "name": "stdout",
     "output_type": "stream",
     "text": [
      "Enter first number16\n",
      "ENter second nunmber4\n",
      "b  is divided by c\n"
     ]
    }
   ],
   "source": [
    "b,c = int(input(\"Enter first number\")),int(input(\"ENter second nunmber\"))\n",
    "if (b%c==0):\n",
    "    print(\"b  is divided by c\")\n",
    "else:\n",
    "    print(\"b is n not divided by c\")"
   ]
  },
  {
   "cell_type": "code",
   "execution_count": 24,
   "metadata": {},
   "outputs": [
    {
     "name": "stdout",
     "output_type": "stream",
     "text": [
      "Enter a number q to quit1\n",
      "Enter a number q to quit2\n",
      "Enter a number q to quit34\n",
      "Enter a number q to quit5\n",
      "Enter a number q to quit2\n",
      "Enter a number q to quit1\n",
      "Enter a number q to quitq\n",
      "[1, 2, 2, 1]\n"
     ]
    }
   ],
   "source": [
    "l1 = []\n",
    "a = 0\n",
    "while a!='q':\n",
    "    a = input(\"Enter a number q to quit\")\n",
    "    if a!='q':\n",
    "        l1.append(int(a))\n",
    "k2 = []\n",
    "for i in l1:\n",
    "    l2=[]\n",
    "    if i<5:\n",
    "        k2.append(i)\n",
    "print(k2)"
   ]
  },
  {
   "cell_type": "code",
   "execution_count": 28,
   "metadata": {},
   "outputs": [
    {
     "name": "stdout",
     "output_type": "stream",
     "text": [
      "[1, 2, 3, 4]\n"
     ]
    }
   ],
   "source": [
    "l1  =[1,2,3,4,5,6,7,8]\n",
    "l2 = [a for a in l1 if a<5 ]\n",
    "print(l2)"
   ]
  },
  {
   "cell_type": "code",
   "execution_count": 30,
   "metadata": {},
   "outputs": [
    {
     "name": "stdout",
     "output_type": "stream",
     "text": [
      "enter a number 6\n",
      "[1, 2, 3, 5, 0, 5, 4, 3, 2, 1, 1]\n"
     ]
    }
   ],
   "source": [
    "l1 = [1,2,3,5,6,7,8,0,8,7,5,4,3,2,1,1]\n",
    "l2=[]\n",
    "a = int(input(\"enter a number \"))\n",
    "for i in l1:\n",
    "    if i <a:\n",
    "        l2.append(i)\n",
    "print(l2)"
   ]
  },
  {
   "cell_type": "code",
   "execution_count": 33,
   "metadata": {},
   "outputs": [
    {
     "name": "stdout",
     "output_type": "stream",
     "text": [
      "enter a number to test26\n",
      "2\n",
      "13\n"
     ]
    }
   ],
   "source": [
    "a = int(input(\"enter a number to test\"))\n",
    "for i in range(2,a):\n",
    "    if a%i==0:\n",
    "        print(i)"
   ]
  },
  {
   "cell_type": "code",
   "execution_count": 40,
   "metadata": {},
   "outputs": [],
   "source": [
    "import random\n",
    "l1 =random.sample(range(20,50),10)\n",
    "l2 = random.sample(range(20,50),30)"
   ]
  },
  {
   "cell_type": "code",
   "execution_count": 41,
   "metadata": {},
   "outputs": [
    {
     "name": "stdout",
     "output_type": "stream",
     "text": [
      "40\n",
      "27\n",
      "31\n",
      "38\n",
      "33\n",
      "46\n",
      "47\n",
      "24\n",
      "43\n",
      "48\n"
     ]
    }
   ],
   "source": [
    "for i in l1:\n",
    "    if i in l2:\n",
    "        print(i)"
   ]
  },
  {
   "cell_type": "code",
   "execution_count": 38,
   "metadata": {},
   "outputs": [
    {
     "data": {
      "text/plain": [
       "[21, 29, 25, 20, 23]"
      ]
     },
     "execution_count": 38,
     "metadata": {},
     "output_type": "execute_result"
    }
   ],
   "source": [
    "l2"
   ]
  },
  {
   "cell_type": "code",
   "execution_count": 47,
   "metadata": {},
   "outputs": [
    {
     "name": "stdout",
     "output_type": "stream",
     "text": [
      "1\n",
      "2\n",
      "3\n",
      "5\n",
      "8\n",
      "13\n"
     ]
    }
   ],
   "source": [
    "a = [1, 1, 2, 3, 5, 8, 13, 21, 34, 55, 89]\n",
    "b = [1, 2, 3, 4, 5, 6, 7, 8, 9, 10, 11, 12, 13]\n",
    "c=[]\n",
    "for i in a:\n",
    "    if i in b:\n",
    "       \n",
    "        if i not in c:\n",
    "             c.append(i)\n",
    "            \n",
    "             print(i)"
   ]
  },
  {
   "cell_type": "code",
   "execution_count": 57,
   "metadata": {},
   "outputs": [
    {
     "name": "stdout",
     "output_type": "stream",
     "text": [
      "[1, 1, 2, 3, 5, 8, 13]\n"
     ]
    }
   ],
   "source": [
    "l2= [i for i in a  if i in b ]\n",
    "print(l2)"
   ]
  },
  {
   "cell_type": "code",
   "execution_count": 66,
   "metadata": {},
   "outputs": [
    {
     "name": "stdout",
     "output_type": "stream",
     "text": [
      "enter a string   civvic\n",
      "it's a palindrome\n"
     ]
    }
   ],
   "source": [
    "s1 = input(\"enter a string   \")\n",
    "s2 = s1[::-1]\n",
    "pali= 0\n",
    "for i in range(len(s1)):\n",
    "    if s1[i]!=s2[i]:\n",
    "        pali=1\n",
    "if pali==0:\n",
    "    print(\"it's a palindrome\")\n",
    "else:\n",
    "    print(\"it's not a palindrome\")\n",
    "        "
   ]
  },
  {
   "cell_type": "code",
   "execution_count": 68,
   "metadata": {},
   "outputs": [
    {
     "name": "stdout",
     "output_type": "stream",
     "text": [
      "[4, 16, 36, 64, 100]\n"
     ]
    }
   ],
   "source": [
    "l1 = [1, 4, 9, 16, 25, 36, 49, 64, 81, 100]\n",
    "l2 = [i for i in l1 if i%2==0]\n",
    "print(l2)"
   ]
  },
  {
   "cell_type": "code",
   "execution_count": 11,
   "metadata": {},
   "outputs": [
    {
     "name": "stdout",
     "output_type": "stream",
     "text": [
      " 1 for rock 2 for scissors 3 for paper\n",
      "enter a choice1\n",
      "enter b choice2\n",
      "player a wins\n",
      "do you want to continue press q if you want to quit\n",
      "q\n"
     ]
    }
   ],
   "source": [
    "print(\" 1 for rock 2 for scissors 3 for paper\")\n",
    "i = 1\n",
    "while i>0:\n",
    "    \n",
    "    a = int(input(\"enter a choice\"))\n",
    "    b = int(input(\"enter b choice\"))\n",
    "    \n",
    "    if (a==1) & (b==2):\n",
    "        print(\"player a wins\")\n",
    "    elif (a==1) & (b==2):\n",
    "        print(\"player b wins\")\n",
    "    elif (a==2 )& (b==3):\n",
    "        print(\"player a wins\")\n",
    "    elif (a==2 )& (b==1):\n",
    "        print(\"player b wins\")\n",
    "    elif (a==3 )& (b==1):\n",
    "        print(\"player a wins\")\n",
    "    elif (a==3 )& (b==2):\n",
    "        print(\"player b wins\")\n",
    "\n",
    "    else:\n",
    "        print(\"it's a draw\")\n",
    "    print(\"do you want to continue press q if you want to quit\")\n",
    "    s1 = input()\n",
    "    if s1!='q':\n",
    "        continue\n",
    "    else:\n",
    "        break\n",
    "        \n",
    "        "
   ]
  },
  {
   "cell_type": "code",
   "execution_count": 15,
   "metadata": {},
   "outputs": [
    {
     "name": "stdout",
     "output_type": "stream",
     "text": [
      "Enter a random number betn 1 and 9 2\n",
      "You guessed low\n",
      "do you want to continuequit\n",
      "Enter a random number betn 1 and 9 1\n",
      "You guessed low\n",
      "do you want to continueexit\n"
     ]
    }
   ],
   "source": [
    "import random\n",
    "count=1\n",
    "while count>0:\n",
    "    ran = random.randint(1,9)\n",
    "    a = int(input(\"Enter a random number betn 1 and 9 \"))\n",
    "    count +=1\n",
    "    if ran>a:\n",
    "        print(\"You guessed low\")\n",
    "    elif ran<a:\n",
    "        print(\"you guessed high\")\n",
    "    else:\n",
    "        print(\"wow  \")\n",
    "    choice = input(\"do you want to continue   \")\n",
    "    if choice !='exit':\n",
    "        continue\n",
    "    else:\n",
    "        break\n",
    "        "
   ]
  },
  {
   "cell_type": "code",
   "execution_count": 41,
   "metadata": {},
   "outputs": [],
   "source": [
    "a = [1, 1, 2, 3, 4,4,5, 8, 13, 21, 34, 55, 89]\n",
    "b = [1, 2, 3, 4,4, 5,5, 6, 7, 8, 9, 10, 11, 12, 13]\n",
    "l1 =[]\n",
    "l1 = [set(i for i in a  if i in b)]"
   ]
  },
  {
   "cell_type": "code",
   "execution_count": 38,
   "metadata": {},
   "outputs": [
    {
     "name": "stdout",
     "output_type": "stream",
     "text": [
      "{1, 2, 3, 4, 5, 8, 13}\n"
     ]
    }
   ],
   "source": [
    "print(set(l1))"
   ]
  },
  {
   "cell_type": "code",
   "execution_count": 65,
   "metadata": {},
   "outputs": [
    {
     "name": "stdout",
     "output_type": "stream",
     "text": [
      "{2, 10, 13, 22, 26, 29, 34, 40, 48, 49, 50, 53, 59, 61, 62, 64, 65, 66, 73, 75, 77, 79, 82, 83, 85, 86, 90, 91, 97, 99}\n"
     ]
    }
   ],
   "source": [
    "a= random.sample(range(100),50)\n",
    "b = random.sample(range(100),50)\n",
    "l1 =[]\n",
    "l1 = [i for i in a  if i in b]\n",
    "print(set(l1))"
   ]
  },
  {
   "cell_type": "code",
   "execution_count": null,
   "metadata": {},
   "outputs": [
    {
     "name": "stdout",
     "output_type": "stream",
     "text": [
      "enter a number to check   10000000000000\n"
     ]
    }
   ],
   "source": [
    "def is_prime(n):\n",
    "    prime=0\n",
    "    for i in range(2,n):\n",
    "        if n%i==0:\n",
    "            prime =1\n",
    "    return prime\n",
    "    \n",
    "    \n",
    "a = int(input(\"enter a number to check   \"))\n",
    "primey=is_prime(a)\n",
    "if primey ==1:\n",
    "    print(\"it's not a prime number\")\n",
    "else:\n",
    "    print(\"it's a prime number\")"
   ]
  },
  {
   "cell_type": "code",
   "execution_count": 7,
   "metadata": {},
   "outputs": [
    {
     "name": "stdout",
     "output_type": "stream",
     "text": [
      "[7, 0, 5, 8, 4]\n",
      "[7, 4]\n"
     ]
    }
   ],
   "source": [
    "import random\n",
    "def fndl(l3):\n",
    "    \n",
    "    l2=[]\n",
    "    l2.append(l3[0])\n",
    "    l2.append(l3[-1])\n",
    "    print(l2)\n",
    "\n",
    "l1 = random.sample(range(10),5)\n",
    "print(l1)\n",
    "fndl(l1)\n",
    "\n",
    "    "
   ]
  },
  {
   "cell_type": "code",
   "execution_count": 16,
   "metadata": {},
   "outputs": [
    {
     "name": "stdout",
     "output_type": "stream",
     "text": [
      "Enter a number of fibonacci sequence to generate10\n",
      "1\n",
      "1\n",
      "2\n",
      "3\n",
      "5\n",
      "8\n",
      "13\n",
      "21\n",
      "34\n",
      "55\n",
      "89\n"
     ]
    }
   ],
   "source": [
    "def fibo(n):\n",
    "    a,b,c=1,1,1\n",
    "    print(1)\n",
    "    n -=1\n",
    "        \n",
    "    \n",
    "   \n",
    "  \n",
    "    while n>=0:\n",
    "        print(c)\n",
    "        a = b\n",
    "        b = c\n",
    "        c = a+b\n",
    "        n -=1\n",
    "        \n",
    "        \n",
    "        \n",
    "        \n",
    "        \n",
    "        \n",
    "    \n",
    "    \n",
    "n = int(input(\"Enter a number of fibonacci sequence to generate\"))\n",
    "fibo(n)"
   ]
  },
  {
   "cell_type": "code",
   "execution_count": 20,
   "metadata": {},
   "outputs": [
    {
     "name": "stdout",
     "output_type": "stream",
     "text": [
      "[1, 2, 3, 4, 5, 56, 7, 54, 34, 434, 12]\n",
      "{1, 2, 3, 4, 5, 34, 7, 12, 434, 54, 56}\n"
     ]
    }
   ],
   "source": [
    "def looping(l1):\n",
    "    l2 = []\n",
    "    for i in l1:\n",
    "        if i not in l2:\n",
    "            l2.append(i)\n",
    "    print(l2)\n",
    "    \n",
    "def setu(l1):\n",
    "    s1 = set(l1)\n",
    "    print(s1)\n",
    "    \n",
    "l1 = [1,1,1,2,3,3,4,4,3,3,4,5,56,7,56,54,54,34,3,3,4,54,5,56,54,434,3,2,2,12,12]\n",
    "looping(l1)\n",
    "setu(l1)\n"
   ]
  },
  {
   "cell_type": "code",
   "execution_count": 35,
   "metadata": {},
   "outputs": [
    {
     "name": "stdout",
     "output_type": "stream",
     "text": [
      "iamluffy is name My\n"
     ]
    }
   ],
   "source": [
    "def string_back(s1):\n",
    "    \n",
    "    l1 =[]\n",
    "    for i in s1.split():\n",
    "\n",
    "        l1.append(i)\n",
    "    l1 =l1[::-1]\n",
    "    s1 =\" \"\n",
    "    print(s1.join(l1))\n",
    "s1 =\"My name is iamluffy\"\n",
    "string_back(s1)\n"
   ]
  },
  {
   "cell_type": "code",
   "execution_count": 52,
   "metadata": {},
   "outputs": [
    {
     "name": "stdout",
     "output_type": "stream",
     "text": [
      "enter length of password you want to generate10\n",
      "1g>3u`a<v2\n"
     ]
    }
   ],
   "source": [
    "import string\n",
    "import random\n",
    "def pwdgenerate(n):\n",
    "    magic = \" \"\n",
    "    u = string.ascii_uppercase\n",
    "    l = string.ascii_lowercase\n",
    "    d = string.digits\n",
    "    s = string.punctuation\n",
    "    magic = u+l+d+s\n",
    "    pwd = random.sample(magic,n)\n",
    "    random.shuffle(pwd)\n",
    "    s1 = \" \"\n",
    "    \n",
    "    for i in pwd:\n",
    "        pwd=''.join(pwd)\n",
    "    \n",
    "    \n",
    "    return pwd\n",
    "\n",
    "    \n",
    "n = int(input(\"enter length of password you want to generate\"))\n",
    "pwd = pwdgenerate(n)\n",
    "print(pwd)"
   ]
  },
  {
   "cell_type": "code",
   "execution_count": 58,
   "metadata": {},
   "outputs": [],
   "source": [
    "import requests\n",
    "from bs4 import BeautifulSoup\n",
    "url = 'https://www.nytimes.com'\n",
    "r = requests.get(url)\n",
    "r_html = r.text\n",
    "soup=BeautifulSoup(r_html)\n",
    "\n"
   ]
  },
  {
   "cell_type": "code",
   "execution_count": 84,
   "metadata": {},
   "outputs": [],
   "source": [
    "for story_heading in soup.find_all(class_=\"css-1smgwul e1wiw3jv0\"):\n",
    "        print(story_heading.a.text.replace(\"\\n\", \" \").strip())"
   ]
  },
  {
   "cell_type": "code",
   "execution_count": 1,
   "metadata": {},
   "outputs": [
    {
     "name": "stdout",
     "output_type": "stream",
     "text": [
      "Enter a 4 digit number    1234\n",
      "123\n",
      "12\n",
      "1\n",
      "0\n",
      "number of cows 0 number of bulls 4\n",
      "Enter a 4 digit number    2354\n",
      "235\n",
      "23\n",
      "2\n",
      "0\n",
      "number of cows 0 number of bulls 4\n",
      "Enter a 4 digit number    5655\n",
      "565\n",
      "56\n",
      "5\n",
      "0\n",
      "number of cows 1 number of bulls 3\n",
      "Enter a 4 digit number    0000\n",
      "number of cows 0 number of bulls 0\n",
      "Enter a 4 digit number    3.2\n"
     ]
    },
    {
     "ename": "ValueError",
     "evalue": "invalid literal for int() with base 10: '3.2'",
     "output_type": "error",
     "traceback": [
      "\u001b[1;31m---------------------------------------------------------------------------\u001b[0m",
      "\u001b[1;31mValueError\u001b[0m                                Traceback (most recent call last)",
      "\u001b[1;32m<ipython-input-1-74888ed669d9>\u001b[0m in \u001b[0;36m<module>\u001b[1;34m\u001b[0m\n\u001b[0;32m     26\u001b[0m     \u001b[0mrnd\u001b[0m \u001b[1;33m=\u001b[0m \u001b[0mrandom\u001b[0m\u001b[1;33m.\u001b[0m\u001b[0mrandint\u001b[0m\u001b[1;33m(\u001b[0m\u001b[1;36m1000\u001b[0m\u001b[1;33m,\u001b[0m\u001b[1;36m9999\u001b[0m\u001b[1;33m)\u001b[0m\u001b[1;33m\u001b[0m\u001b[1;33m\u001b[0m\u001b[0m\n\u001b[0;32m     27\u001b[0m     \u001b[1;32mwhile\u001b[0m \u001b[0mc\u001b[0m\u001b[1;33m!=\u001b[0m\u001b[1;36m4\u001b[0m\u001b[1;33m:\u001b[0m\u001b[1;33m\u001b[0m\u001b[1;33m\u001b[0m\u001b[0m\n\u001b[1;32m---> 28\u001b[1;33m         \u001b[0ma\u001b[0m \u001b[1;33m=\u001b[0m \u001b[0mint\u001b[0m\u001b[1;33m(\u001b[0m\u001b[0minput\u001b[0m\u001b[1;33m(\u001b[0m\u001b[1;34m\"Enter a 4 digit number    \"\u001b[0m\u001b[1;33m)\u001b[0m\u001b[1;33m)\u001b[0m\u001b[1;33m\u001b[0m\u001b[1;33m\u001b[0m\u001b[0m\n\u001b[0m\u001b[0;32m     29\u001b[0m         \u001b[0mc\u001b[0m \u001b[1;33m=\u001b[0m \u001b[0mguess\u001b[0m\u001b[1;33m(\u001b[0m\u001b[0ma\u001b[0m\u001b[1;33m,\u001b[0m\u001b[0mrnd\u001b[0m\u001b[1;33m)\u001b[0m\u001b[1;33m\u001b[0m\u001b[1;33m\u001b[0m\u001b[0m\n",
      "\u001b[1;31mValueError\u001b[0m: invalid literal for int() with base 10: '3.2'"
     ]
    }
   ],
   "source": [
    "import random\n",
    "def guess(a,rnd):\n",
    "    \n",
    "    bulls =0\n",
    "    cows =0\n",
    "        \n",
    "    while(a>0):\n",
    "        if(a%10 ==rnd %10):\n",
    "            cows +=1\n",
    "                \n",
    "        else:\n",
    "            bulls +=1\n",
    "                \n",
    "        a =a//10\n",
    "        rnd  =rnd//10\n",
    "        print(a)\n",
    "        \n",
    "            \n",
    "\n",
    "    print(\"number of cows\" ,str(cows), \"number of bulls\", str(bulls))\n",
    "    return cows\n",
    "    \n",
    "    \n",
    "if __name__==\"__main__\":\n",
    "    c=0\n",
    "    rnd = random.randint(1000,9999)\n",
    "    while c!=4:\n",
    "        a = int(input(\"Enter a 4 digit number    \"))\n",
    "        c = guess(a,rnd)"
   ]
  },
  {
   "cell_type": "code",
   "execution_count": 24,
   "metadata": {},
   "outputs": [
    {
     "name": "stdout",
     "output_type": "stream",
     "text": [
      "enter number you want to search    11\n",
      "Element not found\n"
     ]
    }
   ],
   "source": [
    "\n",
    "def search(l2,num):\n",
    "    \n",
    "   \n",
    "    first=0\n",
    "    last=len(l2)-1\n",
    "    \n",
    "    while last>=first:\n",
    "        mid = (first+last)//2\n",
    "        if num<l2[mid]:\n",
    "            last=mid+1\n",
    "            \n",
    "        elif num>l2[mid]:\n",
    "            first=mid+1\n",
    "        else:\n",
    "            return True\n",
    "        \n",
    "    \n",
    "if __name__==\"__main__\":\n",
    "    l1 =[1,2,3,4,5,7,8,9,10]\n",
    "    to_search = int(input(\"enter number you want to search    \"))\n",
    "    a= search(l1,to_search)\n",
    "    if a==True:\n",
    "        print(\"Element found\")\n",
    "    else:\n",
    "        print(\"Element not found\")\n",
    "    "
   ]
  },
  {
   "cell_type": "code",
   "execution_count": 26,
   "metadata": {},
   "outputs": [
    {
     "name": "stdout",
     "output_type": "stream",
     "text": [
      "enter the name you want to save a file toabc\n"
     ]
    }
   ],
   "source": [
    "s1= input(\"enter the name you want to save a file to\")\n",
    "with open(s1+\".txt\",'w') as file:\n",
    "    file.write(\"so opened a file\")\n",
    "    \n"
   ]
  },
  {
   "cell_type": "code",
   "execution_count": 108,
   "metadata": {},
   "outputs": [
    {
     "data": {
      "text/plain": [
       "1232.4"
      ]
     },
     "execution_count": 108,
     "metadata": {},
     "output_type": "execute_result"
    }
   ],
   "source": [
    "a"
   ]
  },
  {
   "cell_type": "code",
   "execution_count": null,
   "metadata": {},
   "outputs": [],
   "source": []
  }
 ],
 "metadata": {
  "kernelspec": {
   "display_name": "Python 3",
   "language": "python",
   "name": "python3"
  },
  "language_info": {
   "codemirror_mode": {
    "name": "ipython",
    "version": 3
   },
   "file_extension": ".py",
   "mimetype": "text/x-python",
   "name": "python",
   "nbconvert_exporter": "python",
   "pygments_lexer": "ipython3",
   "version": "3.7.7"
  }
 },
 "nbformat": 4,
 "nbformat_minor": 4
}
